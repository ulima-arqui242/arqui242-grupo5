{
  "nbformat": 4,
  "nbformat_minor": 0,
  "metadata": {
    "colab": {
      "provenance": []
    },
    "kernelspec": {
      "name": "python3",
      "display_name": "Python 3"
    },
    "language_info": {
      "name": "python"
    }
  },
  "cells": [
    {
      "cell_type": "code",
      "execution_count": null,
      "metadata": {
        "colab": {
          "base_uri": "https://localhost:8080/"
        },
        "id": "-LqyH4fBsnpX",
        "outputId": "5fa0592c-1b13-4369-bbce-e1bf0ea004ef"
      },
      "outputs": [
        {
          "output_type": "stream",
          "name": "stdout",
          "text": [
            "Collecting pyspark\n",
            "  Downloading pyspark-3.5.3.tar.gz (317.3 MB)\n",
            "\u001b[2K     \u001b[90m━━━━━━━━━━━━━━━━━━━━━━━━━━━━━━━━━━━━━━━━\u001b[0m \u001b[32m317.3/317.3 MB\u001b[0m \u001b[31m4.1 MB/s\u001b[0m eta \u001b[36m0:00:00\u001b[0m\n",
            "\u001b[?25h  Preparing metadata (setup.py) ... \u001b[?25l\u001b[?25hdone\n",
            "Requirement already satisfied: py4j==0.10.9.7 in /usr/local/lib/python3.10/dist-packages (from pyspark) (0.10.9.7)\n",
            "Building wheels for collected packages: pyspark\n",
            "  Building wheel for pyspark (setup.py) ... \u001b[?25l\u001b[?25hdone\n",
            "  Created wheel for pyspark: filename=pyspark-3.5.3-py2.py3-none-any.whl size=317840625 sha256=7df7434dda84903eca9906e807e639664ca2c3581bfe77079e72ac2f34f267d0\n",
            "  Stored in directory: /root/.cache/pip/wheels/1b/3a/92/28b93e2fbfdbb07509ca4d6f50c5e407f48dce4ddbda69a4ab\n",
            "Successfully built pyspark\n",
            "Installing collected packages: pyspark\n",
            "Successfully installed pyspark-3.5.3\n"
          ]
        }
      ],
      "source": [
        "!pip install pyspark"
      ]
    },
    {
      "cell_type": "code",
      "source": [
        "# Importar SparkSession y funciones adicionales\n",
        "from pyspark.sql import SparkSession\n",
        "from pyspark.sql.functions import col, when\n"
      ],
      "metadata": {
        "id": "-JXQXeHss4YT"
      },
      "execution_count": null,
      "outputs": []
    },
    {
      "cell_type": "code",
      "source": [
        "# Crear una nueva SparkSession\n",
        "spark = SparkSession.builder \\\n",
        "    .appName(\"Ventas Demo\") \\\n",
        "    .getOrCreate()"
      ],
      "metadata": {
        "id": "PJ8kWVwGxiwC"
      },
      "execution_count": null,
      "outputs": []
    },
    {
      "cell_type": "code",
      "source": [
        "# Extract: Cargar los datos sin procesar de un archivo CSV\n",
        "ventas_raw_df = spark.read.csv(\"ventas_db_demo.csv\", header=True, inferSchema=True)\n",
        "\n",
        "# Mostrar los datos crudos\n",
        "ventas_raw_df.show()\n"
      ],
      "metadata": {
        "colab": {
          "base_uri": "https://localhost:8080/"
        },
        "id": "esY2oKYkKFfU",
        "outputId": "ba9faa95-2235-4a39-d308-7d92af566fc3"
      },
      "execution_count": null,
      "outputs": [
        {
          "output_type": "stream",
          "name": "stdout",
          "text": [
            "+---------------+------+--------+-----------+-----------+-------------+---------+---------+\n",
            "|       producto|precio|cantidad|  categoria|fecha_venta|       tienda|  cliente|descuento|\n",
            "+---------------+------+--------+-----------+-----------+-------------+---------+---------+\n",
            "|   PlayStation5|   800|       3|Electronica| 2024-01-15|SagaFalabella|Cliente 1|       40|\n",
            "|           Xbox|   600|       1|       NULL| 2024-03-20|       Ripley|Cliente 2|       70|\n",
            "|Nintendo Switch|   400|       2|Electronica| 2024-05-10|      Oeschle|Cliente 3|       30|\n",
            "|     Samsung TV|  1000|       1|Electronica| 2024-02-17|SagaFalabella|Cliente 4|     NULL|\n",
            "|   Apple iPhone|  1200|       2|Electronica| 2024-06-01|       Ripley|Cliente 5|      100|\n",
            "|  Lenovo Laptop|   900|       1|Electronica| 2024-07-11|      Oeschle|Cliente 1|       80|\n",
            "|Sony Headphones|   150|       5|Electronica| 2024-04-22|SagaFalabella|Cliente 2|       10|\n",
            "|     HP Printer|   250|       3|Electronica| 2024-03-09|       Ripley|Cliente 3|       25|\n",
            "|   Asus Monitor|   350|       2|       NULL| 2024-07-19|      Oeschle|Cliente 4|       15|\n",
            "|    Razer Mouse|   100|       6|       NULL| 2024-06-30|SagaFalabella|Cliente 5|     NULL|\n",
            "|   Adidas Shoes|   120|       4|       Ropa| 2024-02-13|       Ripley|Cliente 1|       20|\n",
            "|    Nike Jacket|   200|       2|       Ropa| 2024-03-25|      Oeschle|Cliente 2|       15|\n",
            "|   Levi's Jeans|    90|       3|       Ropa| 2024-04-10|SagaFalabella|Cliente 3|       10|\n",
            "|       Puma Hat|    50|       7|       Ropa| 2024-05-07|       Ripley|Cliente 4|        5|\n",
            "|    H&M T-shirt|    30|      10|       Ropa| 2024-06-14|      Oeschle|Cliente 5|     NULL|\n",
            "|   PlayStation5|   800|       1|Electronica| 2024-02-05|SagaFalabella|Cliente 1|       30|\n",
            "|           Xbox|   600|       2|Electronica| 2024-03-12|       Ripley|Cliente 2|       60|\n",
            "|Nintendo Switch|   400|       3|Electronica| 2024-05-20|      Oeschle|Cliente 3|       25|\n",
            "|     Samsung TV|  1000|       2|Electronica| 2024-02-27|SagaFalabella|Cliente 4|       45|\n",
            "|   Apple iPhone|  1200|       1|Electronica| 2024-06-11|       Ripley|Cliente 5|     NULL|\n",
            "+---------------+------+--------+-----------+-----------+-------------+---------+---------+\n",
            "only showing top 20 rows\n",
            "\n"
          ]
        }
      ]
    },
    {
      "cell_type": "code",
      "source": [
        "# Transform: Limpiar y transformar los datos\n",
        "# Precio puesto en dolares para mostrar como se puede convertir con Spark\n",
        "\n",
        "ventas_clean_df = ventas_raw_df \\\n",
        "    .fillna({\"precio\": 0, \"descuento\": 0, \"categoria\": \"Desconocido\"}) \\\n",
        "    .withColumn(\"precio\", col(\"precio\") * 3.8) \\\n",
        "    .withColumn(\"descuento\", col(\"descuento\") * 3.8)\n",
        "\n",
        "# Calcular total_venta_cliente antes de ajustar el modelo\n",
        "ventas_clean_df = ventas_clean_df.withColumn(\"total_compra\", (col(\"precio\") * col(\"cantidad\")) - col(\"descuento\"))\n",
        "\n",
        "# Mostrar los datos después de la limpieza\n",
        "ventas_clean_df.show()"
      ],
      "metadata": {
        "colab": {
          "base_uri": "https://localhost:8080/"
        },
        "id": "k4Zkg93ZKHvi",
        "outputId": "591b0621-704e-4738-b8cd-840363ac07f4"
      },
      "execution_count": null,
      "outputs": [
        {
          "output_type": "stream",
          "name": "stdout",
          "text": [
            "+---------------+------+--------+-----------+-----------+-------------+---------+---------+------------+\n",
            "|       producto|precio|cantidad|  categoria|fecha_venta|       tienda|  cliente|descuento|total_compra|\n",
            "+---------------+------+--------+-----------+-----------+-------------+---------+---------+------------+\n",
            "|   PlayStation5|3040.0|       3|Electronica| 2024-01-15|SagaFalabella|Cliente 1|    152.0|      8968.0|\n",
            "|           Xbox|2280.0|       1|Desconocido| 2024-03-20|       Ripley|Cliente 2|    266.0|      2014.0|\n",
            "|Nintendo Switch|1520.0|       2|Electronica| 2024-05-10|      Oeschle|Cliente 3|    114.0|      2926.0|\n",
            "|     Samsung TV|3800.0|       1|Electronica| 2024-02-17|SagaFalabella|Cliente 4|      0.0|      3800.0|\n",
            "|   Apple iPhone|4560.0|       2|Electronica| 2024-06-01|       Ripley|Cliente 5|    380.0|      8740.0|\n",
            "|  Lenovo Laptop|3420.0|       1|Electronica| 2024-07-11|      Oeschle|Cliente 1|    304.0|      3116.0|\n",
            "|Sony Headphones| 570.0|       5|Electronica| 2024-04-22|SagaFalabella|Cliente 2|     38.0|      2812.0|\n",
            "|     HP Printer| 950.0|       3|Electronica| 2024-03-09|       Ripley|Cliente 3|     95.0|      2755.0|\n",
            "|   Asus Monitor|1330.0|       2|Desconocido| 2024-07-19|      Oeschle|Cliente 4|     57.0|      2603.0|\n",
            "|    Razer Mouse| 380.0|       6|Desconocido| 2024-06-30|SagaFalabella|Cliente 5|      0.0|      2280.0|\n",
            "|   Adidas Shoes| 456.0|       4|       Ropa| 2024-02-13|       Ripley|Cliente 1|     76.0|      1748.0|\n",
            "|    Nike Jacket| 760.0|       2|       Ropa| 2024-03-25|      Oeschle|Cliente 2|     57.0|      1463.0|\n",
            "|   Levi's Jeans| 342.0|       3|       Ropa| 2024-04-10|SagaFalabella|Cliente 3|     38.0|       988.0|\n",
            "|       Puma Hat| 190.0|       7|       Ropa| 2024-05-07|       Ripley|Cliente 4|     19.0|      1311.0|\n",
            "|    H&M T-shirt| 114.0|      10|       Ropa| 2024-06-14|      Oeschle|Cliente 5|      0.0|      1140.0|\n",
            "|   PlayStation5|3040.0|       1|Electronica| 2024-02-05|SagaFalabella|Cliente 1|    114.0|      2926.0|\n",
            "|           Xbox|2280.0|       2|Electronica| 2024-03-12|       Ripley|Cliente 2|    228.0|      4332.0|\n",
            "|Nintendo Switch|1520.0|       3|Electronica| 2024-05-20|      Oeschle|Cliente 3|     95.0|      4465.0|\n",
            "|     Samsung TV|3800.0|       2|Electronica| 2024-02-27|SagaFalabella|Cliente 4|    171.0|      7429.0|\n",
            "|   Apple iPhone|4560.0|       1|Electronica| 2024-06-11|       Ripley|Cliente 5|      0.0|      4560.0|\n",
            "+---------------+------+--------+-----------+-----------+-------------+---------+---------+------------+\n",
            "only showing top 20 rows\n",
            "\n"
          ]
        }
      ]
    },
    {
      "cell_type": "code",
      "source": [
        "# Load: Crear una vista temporal para realizar consultas SQL\n",
        "ventas_clean_df.createOrReplaceTempView(\"ventas_limpias\")\n"
      ],
      "metadata": {
        "id": "DCr315GmKf6e"
      },
      "execution_count": null,
      "outputs": []
    },
    {
      "cell_type": "code",
      "source": [
        "# Consulta 1: Calcular el total de ventas por producto sin descuento\n",
        "total_ventas_por_producto = spark.sql(\"\"\"\n",
        "    SELECT producto, SUM(precio * cantidad) AS total_ventas_sin_dsc\n",
        "    FROM ventas_limpias\n",
        "    GROUP BY producto\n",
        "    ORDER BY total_ventas_sin_dsc DESC\n",
        "\"\"\")\n",
        "total_ventas_por_producto.show()"
      ],
      "metadata": {
        "colab": {
          "base_uri": "https://localhost:8080/"
        },
        "id": "-2djIrfiKqJ1",
        "outputId": "db677eef-5146-44c7-a334-20828964d1c8"
      },
      "execution_count": null,
      "outputs": [
        {
          "output_type": "stream",
          "name": "stdout",
          "text": [
            "+---------------+--------------------+\n",
            "|       producto|total_ventas_sin_dsc|\n",
            "+---------------+--------------------+\n",
            "|   Apple iPhone|             27360.0|\n",
            "|     Samsung TV|             22800.0|\n",
            "|  Lenovo Laptop|             20520.0|\n",
            "|   PlayStation5|             18240.0|\n",
            "|           Xbox|             13680.0|\n",
            "|   Asus Monitor|             11970.0|\n",
            "|Nintendo Switch|              9120.0|\n",
            "|Sony Headphones|              8550.0|\n",
            "|     HP Printer|              5700.0|\n",
            "|    Razer Mouse|              5320.0|\n",
            "|   Adidas Shoes|              2736.0|\n",
            "|    H&M T-shirt|              2508.0|\n",
            "|   Levi's Jeans|              2394.0|\n",
            "|       Puma Hat|              2280.0|\n",
            "|    Nike Jacket|              2280.0|\n",
            "|Sandalias Crocs|               304.0|\n",
            "+---------------+--------------------+\n",
            "\n"
          ]
        }
      ]
    },
    {
      "cell_type": "code",
      "source": [
        "# Consulta 2: Obtener los productos más vendidos (por cantidad)\n",
        "productos_mas_vendidos = spark.sql(\"\"\"\n",
        "    SELECT producto, SUM(cantidad) AS cantidad_vendida\n",
        "    FROM ventas_limpias\n",
        "    GROUP BY producto\n",
        "    ORDER BY cantidad_vendida DESC\n",
        "\"\"\")\n",
        "productos_mas_vendidos.show()"
      ],
      "metadata": {
        "colab": {
          "base_uri": "https://localhost:8080/"
        },
        "id": "djn8NRiuKuFg",
        "outputId": "8fc8884d-8a10-42dc-a81e-1108e82a2c11"
      },
      "execution_count": null,
      "outputs": [
        {
          "output_type": "stream",
          "name": "stdout",
          "text": [
            "+---------------+----------------+\n",
            "|       producto|cantidad_vendida|\n",
            "+---------------+----------------+\n",
            "|    H&M T-shirt|              22|\n",
            "|Sony Headphones|              15|\n",
            "|    Razer Mouse|              14|\n",
            "|       Puma Hat|              12|\n",
            "|   Asus Monitor|               9|\n",
            "|   Levi's Jeans|               7|\n",
            "|     Samsung TV|               6|\n",
            "|Nintendo Switch|               6|\n",
            "|   PlayStation5|               6|\n",
            "|  Lenovo Laptop|               6|\n",
            "|           Xbox|               6|\n",
            "|     HP Printer|               6|\n",
            "|   Apple iPhone|               6|\n",
            "|   Adidas Shoes|               6|\n",
            "|    Nike Jacket|               3|\n",
            "|Sandalias Crocs|               2|\n",
            "+---------------+----------------+\n",
            "\n"
          ]
        }
      ]
    },
    {
      "cell_type": "code",
      "source": [
        "\n",
        "# Consulta 3: Total de ventas por tienda\n",
        "ventas_por_categoria = spark.sql(\"\"\"\n",
        "    SELECT tienda, SUM(precio * cantidad) AS total_ventas\n",
        "    FROM ventas_limpias\n",
        "    GROUP BY tienda\n",
        "    ORDER BY total_ventas DESC\n",
        "\"\"\")\n",
        "ventas_por_categoria.show()"
      ],
      "metadata": {
        "colab": {
          "base_uri": "https://localhost:8080/"
        },
        "id": "qLCvE8r_Kv5L",
        "outputId": "a77e3501-32b8-43bf-afff-6a300bb7d3da"
      },
      "execution_count": null,
      "outputs": [
        {
          "output_type": "stream",
          "name": "stdout",
          "text": [
            "+-------------+------------+\n",
            "|       tienda|total_ventas|\n",
            "+-------------+------------+\n",
            "|SagaFalabella|     57304.0|\n",
            "|       Ripley|     51756.0|\n",
            "|      Oeschle|     46398.0|\n",
            "|     PlazaVea|       304.0|\n",
            "+-------------+------------+\n",
            "\n"
          ]
        }
      ]
    },
    {
      "cell_type": "code",
      "source": [
        "\n",
        "# Consulta 4: Total de consumo por cliente\n",
        "consumo_por_cliente = spark.sql(\"\"\"\n",
        "    SELECT cliente, SUM(total_compra) AS total_compras_cliente\n",
        "    FROM ventas_limpias\n",
        "    GROUP BY cliente\n",
        "    ORDER BY total_compras_cliente DESC\n",
        "\"\"\")\n",
        "consumo_por_cliente.show()"
      ],
      "metadata": {
        "colab": {
          "base_uri": "https://localhost:8080/"
        },
        "id": "M7233g35KxXC",
        "outputId": "0b11a4fd-25f4-4082-e6b7-e652041b5c01"
      },
      "execution_count": null,
      "outputs": [
        {
          "output_type": "stream",
          "name": "stdout",
          "text": [
            "+---------+---------------------+\n",
            "|  cliente|total_compras_cliente|\n",
            "+---------+---------------------+\n",
            "|Cliente 1|              40451.0|\n",
            "|Cliente 4|              36594.0|\n",
            "|Cliente 5|              34751.0|\n",
            "|Cliente 2|              23655.0|\n",
            "|Cliente 3|              16644.0|\n",
            "+---------+---------------------+\n",
            "\n"
          ]
        }
      ]
    },
    {
      "cell_type": "code",
      "source": [
        "\n",
        "# Almacenamiento de los datos procesados en formato Parquet (optimizado para grandes volúmenes)\n",
        "ventas_clean_df.write.mode(\"overwrite\").parquet(\"/path/to/ventas_limpias_parquet\")\n",
        "\n",
        "# Mostrar el esquema de los datos guardados\n",
        "ventas_parquet = spark.read.parquet(\"/path/to/ventas_limpias_parquet\")\n",
        "ventas_parquet.printSchema()\n",
        "\n",
        "# Generar estadísticas descriptivas sobre los datos\n",
        "ventas_clean_df.describe().show()"
      ],
      "metadata": {
        "colab": {
          "base_uri": "https://localhost:8080/"
        },
        "id": "2dv3ebcEKzFR",
        "outputId": "646b65a6-9b30-4a16-d515-708d0a4a80c8"
      },
      "execution_count": null,
      "outputs": [
        {
          "output_type": "stream",
          "name": "stdout",
          "text": [
            "root\n",
            " |-- producto: string (nullable = true)\n",
            " |-- precio: double (nullable = true)\n",
            " |-- cantidad: integer (nullable = true)\n",
            " |-- categoria: string (nullable = true)\n",
            " |-- fecha_venta: date (nullable = true)\n",
            " |-- tienda: string (nullable = true)\n",
            " |-- cliente: string (nullable = true)\n",
            " |-- descuento: double (nullable = true)\n",
            " |-- total_compra: double (nullable = true)\n",
            "\n",
            "+-------+------------+------------------+------------------+-----------+-------------+---------+-----------------+-----------------+\n",
            "|summary|    producto|            precio|          cantidad|  categoria|       tienda|  cliente|        descuento|     total_compra|\n",
            "+-------+------------+------------------+------------------+-----------+-------------+---------+-----------------+-----------------+\n",
            "|  count|          40|                40|                40|         40|           40|       40|               40|               40|\n",
            "|   mean|        NULL|           1726.15|               3.3|       NULL|         NULL|     NULL|           91.675|         3802.375|\n",
            "| stddev|        NULL|1459.3767821600054|2.4827610767253794|       NULL|         NULL|     NULL|99.69604768032146|3158.563822352145|\n",
            "|    min|Adidas Shoes|             114.0|                 1|Desconocido|      Oeschle|Cliente 1|              0.0|            285.0|\n",
            "|    max|        Xbox|            4560.0|                12|       Ropa|SagaFalabella|Cliente 5|            380.0|          13376.0|\n",
            "+-------+------------+------------------+------------------+-----------+-------------+---------+-----------------+-----------------+\n",
            "\n"
          ]
        }
      ]
    }
  ]
}