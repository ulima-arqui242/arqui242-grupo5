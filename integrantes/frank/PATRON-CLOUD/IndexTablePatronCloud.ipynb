{
  "nbformat": 4,
  "nbformat_minor": 0,
  "metadata": {
    "colab": {
      "provenance": []
    },
    "kernelspec": {
      "name": "python3",
      "display_name": "Python 3"
    },
    "language_info": {
      "name": "python"
    }
  },
  "cells": [
    {
      "cell_type": "code",
      "execution_count": 2,
      "metadata": {
        "id": "uzUWLLRwSqNI"
      },
      "outputs": [],
      "source": [
        "# Paso 1: Lista de usuarios\n",
        "usuarios = [\n",
        "    {'id': 1, 'nombre': 'Carlos', 'apellido': 'Pérez', 'ciudad': 'Lima'},\n",
        "    {'id': 2, 'nombre': 'Ana', 'apellido': 'Gómez', 'ciudad': 'Cusco'},\n",
        "    {'id': 3, 'nombre': 'Luis', 'apellido': 'Pérez', 'ciudad': 'Arequipa'},\n",
        "    {'id': 4, 'nombre': 'María', 'apellido': 'López', 'ciudad': 'Lima'},\n",
        "    {'id': 5, 'nombre': 'Juan', 'apellido': 'Mendoza', 'ciudad': 'Cusco'}\n",
        "]\n",
        "\n"
      ]
    },
    {
      "cell_type": "code",
      "source": [
        "# Paso 2: Crear tablas de índice por ciudad y apellido\n",
        "indice_ciudad = {}\n",
        "indice_apellido = {}\n",
        "\n",
        "for usuario in usuarios:\n",
        "    ciudad = usuario['ciudad']\n",
        "    apellido = usuario['apellido']\n",
        "    user_id = usuario['id']\n",
        "\n",
        "    # Agregar al índice de ciudad\n",
        "    if ciudad not in indice_ciudad:\n",
        "        indice_ciudad[ciudad] = []\n",
        "    indice_ciudad[ciudad].append(user_id)\n",
        "\n",
        "    # Agregar al índice de apellido\n",
        "    if apellido not in indice_apellido:\n",
        "        indice_apellido[apellido] = []\n",
        "    indice_apellido[apellido].append(user_id)\n",
        "\n"
      ],
      "metadata": {
        "id": "WYqcheEyL6TJ"
      },
      "execution_count": 3,
      "outputs": []
    },
    {
      "cell_type": "code",
      "source": [
        "# Paso 3: Función para buscar usuarios por ciudad y apellido\n",
        "def buscar_por_ciudad(ciudad):\n",
        "    ids = indice_ciudad.get(ciudad, [])\n",
        "    return [usuario for usuario in usuarios if usuario['id'] in ids]\n",
        "\n",
        "def buscar_por_apellido(apellido):\n",
        "    ids = indice_apellido.get(apellido, [])\n",
        "    return [usuario for usuario in usuarios if usuario['id'] in ids]"
      ],
      "metadata": {
        "id": "k4MnDvGkMGQl"
      },
      "execution_count": 4,
      "outputs": []
    },
    {
      "cell_type": "code",
      "source": [
        "# Ejemplo de búsqueda\n",
        "print(\"Usuarios en Lima:\", buscar_por_ciudad('Lima'))\n",
        "print(\"Usuarios con apellido Pérez:\", buscar_por_apellido('Pérez'))"
      ],
      "metadata": {
        "colab": {
          "base_uri": "https://localhost:8080/"
        },
        "id": "MaYPTsH8MDdO",
        "outputId": "3e16aa57-fb36-44ca-e60d-2f4ecefd87e5"
      },
      "execution_count": 5,
      "outputs": [
        {
          "output_type": "stream",
          "name": "stdout",
          "text": [
            "Usuarios en Lima: [{'id': 1, 'nombre': 'Carlos', 'apellido': 'Pérez', 'ciudad': 'Lima'}, {'id': 4, 'nombre': 'María', 'apellido': 'López', 'ciudad': 'Lima'}]\n",
            "Usuarios con apellido Pérez: [{'id': 1, 'nombre': 'Carlos', 'apellido': 'Pérez', 'ciudad': 'Lima'}, {'id': 3, 'nombre': 'Luis', 'apellido': 'Pérez', 'ciudad': 'Arequipa'}]\n"
          ]
        }
      ]
    }
  ]
}